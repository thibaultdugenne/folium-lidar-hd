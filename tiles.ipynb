{
 "cells": [
  {
   "cell_type": "code",
   "execution_count": null,
   "id": "33d040f1",
   "metadata": {},
   "outputs": [],
   "source": [
    "import contextily as ctx\n",
    "import matplotlib.pyplot as plt\n",
    "\n",
    "source_url = \"https://tiles.openrailwaymap.org/standard/{z}/{x}/{y}.png\"\n",
    "\n",
    "# Define w, s, e, for Marseille\n",
    "w, s, e, n = 5.35, 43.2, 5.45, 43.4\n",
    "ll= True # Latitude and Longitude are used instead of Web Mercator\n",
    "zoom = 15\n",
    "n_connections = 8\n",
    "\n",
    "# Get the tiles using contextily\n",
    "img, extent = ctx.bounds2img(w, s, e, n, zoom=zoom, source=source_url, ll=ll, n_connections=n_connections)\n",
    "\n",
    "# Save the image as a PNG file\n",
    "plt.imsave(\"geo.png\", img)\n",
    "print(\"Image saved as geo.png\")\n"
   ]
  }
 ],
 "metadata": {
  "kernelspec": {
   "display_name": "base",
   "language": "python",
   "name": "python3"
  },
  "language_info": {
   "codemirror_mode": {
    "name": "ipython",
    "version": 3
   },
   "file_extension": ".py",
   "mimetype": "text/x-python",
   "name": "python",
   "nbconvert_exporter": "python",
   "pygments_lexer": "ipython3",
   "version": "3.12.2"
  }
 },
 "nbformat": 4,
 "nbformat_minor": 5
}
